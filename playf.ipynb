{
  "nbformat": 4,
  "nbformat_minor": 0,
  "metadata": {
    "colab": {
      "provenance": [],
      "authorship_tag": "ABX9TyNadRBSlJFA9f+PhZtJgV4B",
      "include_colab_link": true
    },
    "kernelspec": {
      "name": "python3",
      "display_name": "Python 3"
    },
    "language_info": {
      "name": "python"
    }
  },
  "cells": [
    {
      "cell_type": "markdown",
      "metadata": {
        "id": "view-in-github",
        "colab_type": "text"
      },
      "source": [
        "<a href=\"https://colab.research.google.com/github/Vinmsh25/playf/blob/main/playf.ipynb\" target=\"_parent\"><img src=\"https://colab.research.google.com/assets/colab-badge.svg\" alt=\"Open In Colab\"/></a>"
      ]
    },
    {
      "cell_type": "code",
      "execution_count": null,
      "metadata": {
        "colab": {
          "base_uri": "https://localhost:8080/"
        },
        "id": "yxGMaM_LExq2",
        "outputId": "a1362dc2-214d-4e65-e63e-ef6db1e22946"
      },
      "outputs": [
        {
          "output_type": "stream",
          "name": "stdout",
          "text": [
            "Playfair Cipher:\n",
            "Encrypted: GYFFWZ\n",
            "Decrypted: HELLOX\n"
          ]
        }
      ],
      "source": [
        "import numpy as np\n",
        "\n",
        "def playfair_generate_key_square(key):\n",
        "    key = ''.join(dict.fromkeys(key.replace('J', 'I') + 'ABCDEFGHIKLMNOPQRSTUVWXYZ'))\n",
        "    return np.array(list(key)).reshape(5, 5)\n",
        "\n",
        "def playfair_find_position(matrix, char):\n",
        "    for i in range(5):\n",
        "        for j in range(5):\n",
        "            if matrix[i, j] == char:\n",
        "                return i, j\n",
        "\n",
        "def playfair_encrypt_decrypt(text, matrix, encrypt=True):\n",
        "    text = text.upper().replace(\"J\", \"I\")\n",
        "    text = text if len(text) % 2 == 0 else text + \"X\"\n",
        "    result = \"\"\n",
        "    for i in range(0, len(text), 2):\n",
        "        a, b = text[i], text[i + 1]\n",
        "        row1, col1 = playfair_find_position(matrix, a)\n",
        "        row2, col2 = playfair_find_position(matrix, b)\n",
        "        if row1 == row2:\n",
        "            col1 = (col1 + 1) % 5 if encrypt else (col1 - 1) % 5\n",
        "            col2 = (col2 + 1) % 5 if encrypt else (col2 - 1) % 5\n",
        "        elif col1 == col2:\n",
        "            row1 = (row1 + 1) % 5 if encrypt else (row1 - 1) % 5\n",
        "            row2 = (row2 + 1) % 5 if encrypt else (row2 - 1) % 5\n",
        "        else:\n",
        "            col1, col2 = col2, col1\n",
        "        result += matrix[row1, col1] + matrix[row2, col2]\n",
        "    return result\n",
        "\n",
        "def playfair_cipher(text, key, encrypt=True):\n",
        "    matrix = playfair_generate_key_square(key)\n",
        "    return playfair_encrypt_decrypt(text, matrix, encrypt)\n",
        "\n",
        "\n",
        "\n",
        "playfair_key = \"KEYWORD\"\n",
        "cipher_p = playfair_cipher(text, playfair_key, True)\n",
        "decrypt_p = playfair_cipher(cipher_p, playfair_key, False)\n",
        "\n",
        "\n",
        "print(\"Playfair Cipher:\")\n",
        "print(\"Encrypted:\", cipher_p)\n",
        "print(\"Decrypted:\", decrypt_p)"
      ]
    }
  ]
}